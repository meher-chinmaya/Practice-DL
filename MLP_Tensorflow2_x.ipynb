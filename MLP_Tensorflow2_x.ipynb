{
  "nbformat": 4,
  "nbformat_minor": 0,
  "metadata": {
    "colab": {
      "provenance": [],
      "gpuType": "T4",
      "authorship_tag": "ABX9TyPopF/XfJfuszjg7ZEu1jI6",
      "include_colab_link": true
    },
    "kernelspec": {
      "name": "python3",
      "display_name": "Python 3"
    },
    "language_info": {
      "name": "python"
    },
    "accelerator": "GPU"
  },
  "cells": [
    {
      "cell_type": "markdown",
      "metadata": {
        "id": "view-in-github",
        "colab_type": "text"
      },
      "source": [
        "<a href=\"https://colab.research.google.com/github/meher-chinmaya/Practice-DL/blob/main/MLP_Tensorflow2_x.ipynb\" target=\"_parent\"><img src=\"https://colab.research.google.com/assets/colab-badge.svg\" alt=\"Open In Colab\"/></a>"
      ]
    },
    {
      "cell_type": "markdown",
      "source": [
        "### MLP Initialization"
      ],
      "metadata": {
        "id": "JMDoKjHsslxv"
      }
    },
    {
      "cell_type": "code",
      "source": [
        "import tensorflow as tf\n",
        "from tensorflow.keras import layers, optimizers, losses, Model\n",
        "import matplotlib.pyplot as plt\n",
        "import numpy as np\n",
        "\n",
        "# Load MNIST Data\n",
        "mnist = tf.keras.datasets.mnist\n",
        "(x_train, y_train), (x_test, y_test) = mnist.load_data()\n",
        "\n",
        "# Normalize and Flatten\n",
        "x_train = x_train.reshape(-1, 784).astype('float32') / 255.\n",
        "x_test = x_test.reshape(-1, 784).astype('float32') / 255.\n",
        "y_train = tf.one_hot(y_train, depth=10)\n",
        "y_test = tf.one_hot(y_test, depth=10)\n",
        "\n",
        "# Parameters\n",
        "n_hidden_1 = 512\n",
        "n_hidden_2 = 128\n",
        "n_input = 784\n",
        "n_classes = 10\n",
        "training_epochs = 10\n",
        "learning_rate = 0.001\n",
        "batch_size = 100\n",
        "\n",
        "# Plotting Function\n",
        "def plt_dynamic(x, y, y_1, ax, ticks, title, colors=['b']):\n",
        "    ax.clear()\n",
        "    ax.plot(x, y, 'b', label=\"Train Loss\")\n",
        "    ax.plot(x, y_1, 'r', label=\"Test Loss\")\n",
        "    plt.legend()\n",
        "    plt.title(title)\n",
        "    plt.yticks(ticks)\n",
        "    fig.canvas.draw()"
      ],
      "metadata": {
        "colab": {
          "base_uri": "https://localhost:8080/"
        },
        "id": "84m0g3sdyYTg",
        "outputId": "35fff350-6740-461c-94c9-4d5192dab506"
      },
      "execution_count": 1,
      "outputs": [
        {
          "output_type": "stream",
          "name": "stdout",
          "text": [
            "Downloading data from https://storage.googleapis.com/tensorflow/tf-keras-datasets/mnist.npz\n",
            "\u001b[1m11490434/11490434\u001b[0m \u001b[32m━━━━━━━━━━━━━━━━━━━━\u001b[0m\u001b[37m\u001b[0m \u001b[1m0s\u001b[0m 0us/step\n"
          ]
        }
      ]
    },
    {
      "cell_type": "markdown",
      "source": [
        "### Model 1\n",
        "*   input (784)\n",
        "*   sigmoid(512)\n",
        "*   sigmoid(128)\n",
        "*   softmax(output 10)"
      ],
      "metadata": {
        "id": "k3JMpuSfBgu6"
      }
    },
    {
      "cell_type": "code",
      "source": [
        "# Define the Model\n",
        "class MLP(Model):\n",
        "    def __init__(self):\n",
        "        super(MLP, self).__init__()\n",
        "        self.fc1 = layers.Dense(n_hidden_1, activation='sigmoid',\n",
        "                                kernel_initializer=tf.random_normal_initializer(mean=0., stddev=0.039))\n",
        "        self.fc2 = layers.Dense(n_hidden_2, activation='sigmoid',\n",
        "                                kernel_initializer=tf.random_normal_initializer(mean=0., stddev=0.055))\n",
        "        self.out = layers.Dense(n_classes, activation='sigmoid',\n",
        "                                kernel_initializer=tf.random_normal_initializer(mean=0., stddev=0.120))\n",
        "\n",
        "    def call(self, x):\n",
        "        x = self.fc1(x)\n",
        "        x = self.fc2(x)\n",
        "        x = self.out(x)\n",
        "        return x\n",
        "\n",
        "model = MLP()\n",
        "\n",
        "# Optimizer and Loss\n",
        "loss_object = losses.CategoricalCrossentropy(from_logits=False)\n",
        "optimizer = optimizers.Adam(learning_rate=learning_rate)"
      ],
      "metadata": {
        "id": "NlyDAjZG4_HG"
      },
      "execution_count": 2,
      "outputs": []
    },
    {
      "cell_type": "code",
      "source": [
        "# Training Loop\n",
        "train_dataset = tf.data.Dataset.from_tensor_slices((x_train, y_train)).shuffle(60000).batch(batch_size)\n",
        "test_dataset = tf.data.Dataset.from_tensor_slices((x_test, y_test)).batch(batch_size)\n",
        "\n",
        "train_loss_results = []\n",
        "test_loss_results = []\n",
        "epochs = []\n",
        "\n",
        "fig, ax = plt.subplots(1, 1)\n",
        "ax.set_xlabel('Epoch')\n",
        "ax.set_ylabel('Loss')\n",
        "\n",
        "\n",
        "for epoch in range(training_epochs):\n",
        "    train_loss = tf.metrics.Mean()\n",
        "    test_loss = tf.metrics.Mean()\n",
        "    train_accuracy = tf.metrics.Accuracy()\n",
        "    test_accuracy = tf.metrics.Accuracy()\n",
        "\n",
        "    # Training loop\n",
        "    for images, labels in train_dataset:\n",
        "        with tf.GradientTape() as tape:\n",
        "            predictions = model(images)\n",
        "            loss = loss_object(labels, predictions)\n",
        "        grads = tape.gradient(loss, model.trainable_variables)\n",
        "        optimizer.apply_gradients(zip(grads, model.trainable_variables))\n",
        "        train_loss.update_state(loss)\n",
        "        train_accuracy.update_state(labels, predictions)\n",
        "\n",
        "    # Testing loop\n",
        "    for test_images, test_labels in test_dataset:\n",
        "        test_predictions = model(test_images)\n",
        "        t_loss = loss_object(test_labels, test_predictions)\n",
        "        test_loss.update_state(t_loss)\n",
        "        test_accuracy.update_state(test_labels, test_predictions)\n",
        "\n",
        "    train_acc = train_accuracy.result().numpy()\n",
        "    test_acc = test_accuracy.result().numpy()\n",
        "\n",
        "    # Record loss\n",
        "    train_loss_results.append(train_loss.result())\n",
        "    test_loss_results.append(test_loss.result())\n",
        "    epochs.append(epoch)\n",
        "\n",
        "    if epoch % 1 == 0:\n",
        "        print(f\"Epoch {epoch}: Train Loss: {train_loss.result():.4f}, Test Loss: {test_loss.result():.4f}, \"\n",
        "            f\"Train Accuracy: {train_acc:.4f}, Test Accuracy: {test_acc:.4f}\")\n",
        "\n",
        "    ticks = np.arange(0, 2, step=0.2)\n",
        "    plt_dynamic(epochs, train_loss_results, test_loss_results, ax, ticks, title=\"input-sigmoid(512)-sigmoid(128)-sigmoid(output)-AdamOptimizer\")\n",
        "\n",
        "plt.show()"
      ],
      "metadata": {
        "colab": {
          "base_uri": "https://localhost:8080/",
          "height": 626
        },
        "id": "CXFPBkld-4qy",
        "outputId": "c6420901-e75b-4565-835b-906474d9c653"
      },
      "execution_count": 3,
      "outputs": [
        {
          "output_type": "stream",
          "name": "stdout",
          "text": [
            "Epoch 0: Train Loss: 0.4976, Test Loss: 0.2341, Train Accuracy: 0.0000, Test Accuracy: 0.0000\n",
            "Epoch 1: Train Loss: 0.2071, Test Loss: 0.1682, Train Accuracy: 0.0000, Test Accuracy: 0.0000\n",
            "Epoch 2: Train Loss: 0.1505, Test Loss: 0.1325, Train Accuracy: 0.0000, Test Accuracy: 0.0000\n",
            "Epoch 3: Train Loss: 0.1125, Test Loss: 0.1080, Train Accuracy: 0.0000, Test Accuracy: 0.0000\n",
            "Epoch 4: Train Loss: 0.0873, Test Loss: 0.0943, Train Accuracy: 0.0000, Test Accuracy: 0.0000\n",
            "Epoch 5: Train Loss: 0.0676, Test Loss: 0.0913, Train Accuracy: 0.0000, Test Accuracy: 0.0000\n",
            "Epoch 6: Train Loss: 0.0541, Test Loss: 0.0710, Train Accuracy: 0.0000, Test Accuracy: 0.0000\n",
            "Epoch 7: Train Loss: 0.0429, Test Loss: 0.0676, Train Accuracy: 0.0000, Test Accuracy: 0.0000\n",
            "Epoch 8: Train Loss: 0.0344, Test Loss: 0.0641, Train Accuracy: 0.0000, Test Accuracy: 0.0000\n",
            "Epoch 9: Train Loss: 0.0281, Test Loss: 0.0651, Train Accuracy: 0.0000, Test Accuracy: 0.0000\n"
          ]
        },
        {
          "output_type": "display_data",
          "data": {
            "text/plain": [
              "<Figure size 640x480 with 1 Axes>"
            ],
            "image/png": "[encoded data removed]"
          },
          "metadata": {}
        }
      ]
    },
    {
      "cell_type": "code",
      "source": [],
      "metadata": {
        "id": "hd0P9Sjm-8oI"
      },
      "execution_count": null,
      "outputs": []
    }
  ]
}